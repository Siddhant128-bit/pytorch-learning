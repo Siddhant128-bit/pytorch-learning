{
 "cells": [
  {
   "cell_type": "markdown",
   "metadata": {},
   "source": [
    "<h3> Tensor Data types </h3>\n",
    "\n",
    "Tensors are pretty confusing to deal with at first because there are many different types of tensor datatypes in pytorch <br>\n",
    "Some are specific to CPU other are better for GPU <br>\n",
    "\n",
    "Tensors also have bits as torch.float32 torch.float16 torch.float8 and so on.<br>\n",
    "In simplest understanding term we can understand that higher bit or precision value means more detail can be obtained and carried over <br>\n",
    "but are comparatively slower then lower precision value <br>\n",
    "\n",
    "Some major issues we come across while handling tensors are: \n",
    "<ol>\n",
    "    <li> datatype issue where the 2 tensors won't have same datatype format (float32 and float16) </li>\n",
    "    <li> device issue where the tensor is deisgned to work on CPU and other is designated to work for GPU </li>\n",
    "</ol>\n",
    "\n",
    "Below we can observe different tensor types with precision values.\n"
   ]
  },
  {
   "cell_type": "code",
   "execution_count": 13,
   "metadata": {},
   "outputs": [
    {
     "name": "stdout",
     "output_type": "stream",
     "text": [
      "tensor([0.3246, 0.5534, 0.1123]) torch.float32 cpu\n"
     ]
    }
   ],
   "source": [
    "import torch\n",
    "\n",
    "float_32_tensor=torch.tensor([0.3245671892,0.55341245,0.11234153],dtype=torch.float32,device=None,requires_grad=False)\n",
    "print(float_32_tensor,float_32_tensor.dtype,float_32_tensor.device)\n",
    "\n",
    "float_16_tensor=torch.tensor([0.3245671892,0.55341245,0.11234153],dtype=torch.float16,device=None,requires_grad=False)\n",
    "print(float_16_tensor,float_16_tensor.dtype,float_16_tensor.device)"
   ]
  }
 ],
 "metadata": {
  "kernelspec": {
   "display_name": "pytorch-learning",
   "language": "python",
   "name": "python3"
  },
  "language_info": {
   "codemirror_mode": {
    "name": "ipython",
    "version": 3
   },
   "file_extension": ".py",
   "mimetype": "text/x-python",
   "name": "python",
   "nbconvert_exporter": "python",
   "pygments_lexer": "ipython3",
   "version": "3.11.3"
  },
  "orig_nbformat": 4
 },
 "nbformat": 4,
 "nbformat_minor": 2
}
