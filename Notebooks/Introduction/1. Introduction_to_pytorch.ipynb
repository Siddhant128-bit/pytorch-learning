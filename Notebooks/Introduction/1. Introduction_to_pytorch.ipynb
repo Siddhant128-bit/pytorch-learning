{
 "cells": [
  {
   "attachments": {},
   "cell_type": "markdown",
   "metadata": {},
   "source": [
    "<h1> Introduction to Pytorch </h1>\n",
    "\n",
    "This is just an attempt to learn pytorch and switch to pytorch framework from scratch and most of the references I have collected for this comes from: https://www.learnpytorch.io . Please Refer to the site for more accurate informations as mine might have alot of flaws. "
   ]
  },
  {
   "cell_type": "code",
   "execution_count": 1,
   "metadata": {},
   "outputs": [],
   "source": [
    "import torch\n",
    "import numpy as np "
   ]
  },
  {
   "attachments": {},
   "cell_type": "markdown",
   "metadata": {},
   "source": [
    "<h5> Pytroch Version </h5>\n",
    "\n",
    "We can check the version of the pytorch using the command as '''torch. _ _ version _ _'''\n"
   ]
  },
  {
   "cell_type": "code",
   "execution_count": 2,
   "metadata": {},
   "outputs": [
    {
     "data": {
      "text/plain": [
       "'2.0.1+cu118'"
      ]
     },
     "execution_count": 2,
     "metadata": {},
     "output_type": "execute_result"
    }
   ],
   "source": [
    "torch.__version__"
   ]
  },
  {
   "attachments": {},
   "cell_type": "markdown",
   "metadata": {},
   "source": [
    "<h5><u> Tensor </u> </h5>\n",
    "<ul>\n",
    "    <li> Tensors are fundamental building blocks of Machine Learning </li>\n",
    "    <li> It Represents data in Numerical way </li>\n",
    "    <li> To Create tensor in pytorch we have code as: <br> torch.tensor([1,2]) </li>\n",
    "    <li> Tensor can be created from python list, numpy array and many more </li>\n",
    "    <li> Each tensor has its own dimension (How many dimensions does each tensor has can be computed by how many consecutive big brackets are there on the left most side )</li>\n",
    "    <li> Each tensor has its own shape (total number of elements, rowwise, column wise and product of all gives all elements)</li>\n",
    "    <li> Can Check the dimension and shape of tensor with these code 'tensor_variable.ndim','tensor_variable.shape'</li>\n",
    "</ul>\n"
   ]
  },
  {
   "cell_type": "code",
   "execution_count": 3,
   "metadata": {},
   "outputs": [
    {
     "name": "stdout",
     "output_type": "stream",
     "text": [
      "tensor([1, 2])\n",
      "<class 'torch.Tensor'>\n",
      "1\n",
      "torch.Size([2])\n",
      "\n",
      "--------------------------------------------------------------------------------\n",
      "tensor([[[1, 2, 3],\n",
      "         [4, 5, 6],\n",
      "         [7, 8, 9]]], dtype=torch.int32)\n",
      "3\n",
      "torch.Size([1, 3, 3])\n",
      "\n",
      "--------------------------------------------------------------------------------\n",
      "tensor([[[ 1,  2,  3],\n",
      "         [ 4,  5,  6],\n",
      "         [ 7,  8,  9]],\n",
      "\n",
      "        [[10, 11, 12],\n",
      "         [13, 14, 15],\n",
      "         [16, 17, 18]],\n",
      "\n",
      "        [[19, 20, 21],\n",
      "         [22, 23, 24],\n",
      "         [25, 26, 27]]], dtype=torch.int32)\n",
      "3\n",
      "torch.Size([3, 3, 3])\n",
      "\n",
      "--------------------------------------------------------------------------------\n"
     ]
    }
   ],
   "source": [
    "one_dim_tensor=torch.tensor([1,2])\n",
    "print(one_dim_tensor)\n",
    "print(type(one_dim_tensor))\n",
    "print(one_dim_tensor.ndim)\n",
    "print(one_dim_tensor.shape)\n",
    "print('\\n'+'--'*40)\n",
    "\n",
    "three_dim_tensor=torch.tensor(np.array([[[1,2,3],\n",
    "                                        [4,5,6],\n",
    "                                        [7,8,9]]]))\n",
    "print(three_dim_tensor)\n",
    "print(three_dim_tensor.ndim)\n",
    "print(three_dim_tensor.shape)\n",
    "print('\\n'+'--'*40)\n",
    "\n",
    "#This following one represents 3x3 representation that is the order in which most images exist\n",
    "three_dim_tensor_3=torch.tensor(np.array([[[1,2,3],\n",
    "                                        [4,5,6],\n",
    "                                        [7,8,9]],\n",
    "                                        [[10,11,12],\n",
    "                                        [13,14,15],\n",
    "                                        [16,17,18]],\n",
    "                                        [[19,20,21],\n",
    "                                        [22,23,24],\n",
    "                                        [25,26,27]]]))\n",
    "print(three_dim_tensor_3)\n",
    "print(three_dim_tensor_3.ndim)\n",
    "print(three_dim_tensor_3.shape)\n",
    "print('\\n'+'--'*40)"
   ]
  },
  {
   "attachments": {},
   "cell_type": "markdown",
   "metadata": {},
   "source": [
    "\n",
    "<h5><u> Scalar</u></h5>\n",
    "<ul>\n",
    "    <li> Scalar is a single number in tensor-terms it's a zero dimension tensor </li>\n",
    "    <li> scalar example can be seen as scalar =torch.tensor(7) (Note: No big brackets so its zero dimensions, Else number of big brackets on left most side number of dimensons) </li>\n",
    "    <li> Can Verify if scalar or not by checking its dimension as scalar.ndim (From above example) </li>\n",
    "</ul>"
   ]
  },
  {
   "cell_type": "code",
   "execution_count": 4,
   "metadata": {},
   "outputs": [
    {
     "name": "stdout",
     "output_type": "stream",
     "text": [
      "tensor(7)\n",
      "Dimenson of the Scalar value: 0\n"
     ]
    }
   ],
   "source": [
    "scalar_val=torch.tensor(7)\n",
    "print(scalar_val)\n",
    "print(f'Dimenson of the Scalar value: {scalar_val.ndim}')"
   ]
  },
  {
   "attachments": {},
   "cell_type": "markdown",
   "metadata": {},
   "source": [
    "<h3><u> Vector </u></h3>\n",
    "<ul>\n",
    "    <li>Vector are single dimension tensor but can contain many numbers </li>\n",
    "    <li>So We can use vector [3, 2] to describe [bedrooms, bathrooms] in your house. Or you could have [3, 2, 2] to describe [bedrooms, bathrooms, car_parks] in your house. </li>\n",
    "    <li>In Simplest term we can understand it as 1 dimensional array/list which can be used to represents many real world values in numerical way </li> \n"
   ]
  },
  {
   "cell_type": "code",
   "execution_count": 5,
   "metadata": {},
   "outputs": [
    {
     "data": {
      "text/plain": [
       "tensor([3, 2])"
      ]
     },
     "metadata": {},
     "output_type": "display_data"
    },
    {
     "data": {
      "text/plain": [
       "1"
      ]
     },
     "metadata": {},
     "output_type": "display_data"
    },
    {
     "data": {
      "text/plain": [
       "torch.Size([2])"
      ]
     },
     "metadata": {},
     "output_type": "display_data"
    }
   ],
   "source": [
    "room_details=torch.tensor([3,2])\n",
    "display(room_details)\n",
    "display(room_details.ndim)\n",
    "display(room_details.shape)"
   ]
  },
  {
   "attachments": {},
   "cell_type": "markdown",
   "metadata": {},
   "source": [
    "<h5><u> Matrix </u></h5>\n",
    "<ul>\n",
    "    <li> Matrix is a 2 dimensional array </li>\n",
    "</ul>"
   ]
  },
  {
   "cell_type": "code",
   "execution_count": 6,
   "metadata": {},
   "outputs": [
    {
     "data": {
      "text/plain": [
       "tensor([[1, 2],\n",
       "        [3, 4]])"
      ]
     },
     "metadata": {},
     "output_type": "display_data"
    },
    {
     "data": {
      "text/plain": [
       "2"
      ]
     },
     "metadata": {},
     "output_type": "display_data"
    },
    {
     "data": {
      "text/plain": [
       "torch.Size([2, 2])"
      ]
     },
     "metadata": {},
     "output_type": "display_data"
    }
   ],
   "source": [
    "matrix=torch.tensor([[1,2],\n",
    "                     [3,4]])\n",
    "\n",
    "display(matrix)\n",
    "display(matrix.ndim)\n",
    "display(matrix.shape)"
   ]
  },
  {
   "attachments": {},
   "cell_type": "markdown",
   "metadata": {},
   "source": [
    "<h5> Summary </h5>\n",
    "To Sum it up in a single table we have: \n",
    "<table>\n",
    "  <tr>\n",
    "    <th>Name</th>\n",
    "    <th>What is it?</th>\n",
    "    <th>Number of dimensions</th>\n",
    "    <th>Lower or upper (usually/example)</th>\n",
    "  </tr>\n",
    "  <tr>\n",
    "    <td>scalar</td>\n",
    "    <td>a single number</td>\n",
    "    <td>0</td>\n",
    "    <td>Lower (a)</td>\n",
    "  </tr>\n",
    "  <tr>\n",
    "    <td>vector</td>\n",
    "    <td>a number with direction (e.g. wind speed with direction) but can also have many other numbers</td>\n",
    "    <td>1</td>\n",
    "    <td>Lower (y)</td>\n",
    "  </tr>\n",
    "  <tr>\n",
    "    <td>matrix</td>\n",
    "    <td>a 2-dimensional array of numbers</td>\n",
    "    <td>2</td>\n",
    "    <td>Upper (Q)</td>\n",
    "  </tr>\n",
    "  <tr>\n",
    "    <td>tensor</td>\n",
    "    <td>an n-dimensional array of numbers</td>\n",
    "    <td>can be any number</td>\n",
    "    <td>Upper (X)</td>\n",
    "  </tr>\n",
    "</table>\t\n",
    "<br>\n",
    "\n",
    "To Sum it up in single Image we have: \n",
    "<br>\n",
    "<img width=800 height=400 src='https://raw.githubusercontent.com/mrdbourke/pytorch-deep-learning/main/images/00-scalar-vector-matrix-tensor.png'>"
   ]
  },
  {
   "attachments": {},
   "cell_type": "markdown",
   "metadata": {},
   "source": [
    "<h5> Initliazation of Tensors </h5>\n",
    "\n",
    "<h5> Random tensors </h5>\n",
    "    &nbsp;&nbsp;&nbsp;Initially all weights are random and they are adjusted overtime so its a must to be able to create a random tensor for that very purpose. 'torch.rand()' is used to create random tensor with size parameter present in it.\n",
    "    "
   ]
  },
  {
   "cell_type": "code",
   "execution_count": 7,
   "metadata": {},
   "outputs": [
    {
     "name": "stdout",
     "output_type": "stream",
     "text": [
      "tensor([[0.4944, 0.0365, 0.2384],\n",
      "        [0.7129, 0.8937, 0.9390],\n",
      "        [0.8411, 0.8100, 0.9232]])\n",
      "\n",
      "--------------------------------------------------\n",
      "(torch.Size([224, 224, 3]), 3)\n"
     ]
    }
   ],
   "source": [
    "initial_weights=torch.rand(size=(3,3))\n",
    "print(initial_weights)\n",
    "print('\\n'+'--'*25)\n",
    "initial_image=torch.rand(size=(224,224,3)) #224 rows 224 columns and having 3 channels \n",
    "print((initial_image.shape,initial_image.ndim))"
   ]
  },
  {
   "attachments": {},
   "cell_type": "markdown",
   "metadata": {},
   "source": [
    "<h5> Zero and Ones Tenssors </h5>\n",
    "&nbsp;&nbsp;&nbsp; Sometimes the tensors should be initilaized at 0 we can do that as 'torch.zeros()' putting size as parameter. Similarly we can have a tensor with only 1s present on it like 'torch.ones()' with size as parameter"
   ]
  },
  {
   "cell_type": "code",
   "execution_count": 8,
   "metadata": {},
   "outputs": [
    {
     "name": "stdout",
     "output_type": "stream",
     "text": [
      "tensor([[[0., 0., 0.],\n",
      "         [0., 0., 0.],\n",
      "         [0., 0., 0.]],\n",
      "\n",
      "        [[0., 0., 0.],\n",
      "         [0., 0., 0.],\n",
      "         [0., 0., 0.]],\n",
      "\n",
      "        [[0., 0., 0.],\n",
      "         [0., 0., 0.],\n",
      "         [0., 0., 0.]]])\n",
      "\n",
      "--------------------------------------------------\n",
      "tensor([[[1., 1., 1.],\n",
      "         [1., 1., 1.],\n",
      "         [1., 1., 1.]],\n",
      "\n",
      "        [[1., 1., 1.],\n",
      "         [1., 1., 1.],\n",
      "         [1., 1., 1.]],\n",
      "\n",
      "        [[1., 1., 1.],\n",
      "         [1., 1., 1.],\n",
      "         [1., 1., 1.]]])\n"
     ]
    }
   ],
   "source": [
    "zero_tensor=torch.zeros(size=(3,3,3))\n",
    "print(zero_tensor)\n",
    "print('\\n'+'--'*25)\n",
    "\n",
    "ones_tensor=torch.ones(size=(3,3,3))\n",
    "print(ones_tensor)"
   ]
  },
  {
   "attachments": {},
   "cell_type": "markdown",
   "metadata": {},
   "source": [
    "<h5> Tensor within Range </h5>"
   ]
  },
  {
   "cell_type": "code",
   "execution_count": 9,
   "metadata": {},
   "outputs": [
    {
     "data": {
      "text/plain": [
       "tensor([ 1,  2,  3,  4,  5,  6,  7,  8,  9, 10])"
      ]
     },
     "execution_count": 9,
     "metadata": {},
     "output_type": "execute_result"
    }
   ],
   "source": [
    "tensor_from_1_to_10=torch.arange(1,11)\n",
    "tensor_from_1_to_10"
   ]
  },
  {
   "attachments": {},
   "cell_type": "markdown",
   "metadata": {},
   "source": [
    "<h5> Operations in Tensor </h5>\n",
    "<p> We can carry out various operations in the tensors with few lines of code.</p>"
   ]
  },
  {
   "cell_type": "code",
   "execution_count": 10,
   "metadata": {},
   "outputs": [
    {
     "name": "stdout",
     "output_type": "stream",
     "text": [
      "Addition: tensor([11, 12, 13, 14, 15, 16, 17, 18, 19, 20])\n",
      "\n",
      "Addition using torch add : tensor([11, 12, 13, 14, 15, 16, 17, 18, 19, 20])\n",
      "\n",
      "Multiplication: tensor([ 10,  20,  30,  40,  50,  60,  70,  80,  90, 100])\n",
      "\n",
      "Multiplication using torch multiply: tensor([ 10,  20,  30,  40,  50,  60,  70,  80,  90, 100])\n",
      "\n",
      "Division by 10: tensor([0.1000, 0.2000, 0.3000, 0.4000, 0.5000, 0.6000, 0.7000, 0.8000, 0.9000,\n",
      "        1.0000])\n",
      "\n",
      "Division by 10 using torch divide: tensor([0.1000, 0.2000, 0.3000, 0.4000, 0.5000, 0.6000, 0.7000, 0.8000, 0.9000,\n",
      "        1.0000])\n",
      "\n"
     ]
    }
   ],
   "source": [
    "\n",
    "print(f'Addition: {tensor_from_1_to_10+10}\\n')\n",
    "print(f'Addition using torch add : {torch.add(tensor_from_1_to_10,10)}\\n')\n",
    "print(f'Multiplication: {tensor_from_1_to_10*10}\\n')\n",
    "print(f'Multiplication using torch multiply: {torch.multiply(tensor_from_1_to_10,10)}\\n')\n",
    "print(f'Division by 10: {tensor_from_1_to_10/10}\\n')\n",
    "print(f'Division by 10 using torch divide: {torch.divide(tensor_from_1_to_10,10)}\\n')"
   ]
  }
 ],
 "metadata": {
  "kernelspec": {
   "display_name": "pytorch-learning",
   "language": "python",
   "name": "python3"
  },
  "language_info": {
   "codemirror_mode": {
    "name": "ipython",
    "version": 3
   },
   "file_extension": ".py",
   "mimetype": "text/x-python",
   "name": "python",
   "nbconvert_exporter": "python",
   "pygments_lexer": "ipython3",
   "version": "3.11.3"
  },
  "orig_nbformat": 4
 },
 "nbformat": 4,
 "nbformat_minor": 2
}
